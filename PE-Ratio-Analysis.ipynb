{
 "cells": [
  {
   "cell_type": "markdown",
   "metadata": {},
   "source": [
    "# PE Ratio Analysis\n",
    "Calculate historical PE ratio for stocks \n",
    "\n",
    "[FAST Graphs: Earnings and Price Correlation](https://www.fastgraphs.com/wp/why-doesnt-the-normal-pe-in-the-historical-graph-match-the-normal-pe-in-the-forecasting-graph/)"
   ]
  },
  {
   "cell_type": "code",
   "execution_count": null,
   "metadata": {
    "collapsed": true
   },
   "outputs": [],
   "source": [
    "library(xts)\n",
    "library(zoo)\n",
    "library(TTR)\n",
    "library(XML)\n",
    "library(rlist)\n",
    "library(dplyr)\n",
    "library(quantmod)\n",
    "library(reshape2)\n",
    "library(XLConnect)\n",
    "library(data.table)\n",
    "setwd('/Users/jtan/Documents/Investment/Price-Earnings-Ratio')\n",
    "\n",
    "# avoid scientific number format\n",
    "options(scipen=999)"
   ]
  },
  {
   "cell_type": "code",
   "execution_count": null,
   "metadata": {
    "collapsed": true
   },
   "outputs": [],
   "source": [
    "STOCK_LIST = c('MSFT')\n",
    "START_DATE <- '2016-01-01'\n",
    "END_DATE <- '2017-01-01'\n",
    "\n",
    "output_table <- data.frame (\n",
    "    symbol=character(),\n",
    "    period=character(),\n",
    "    metric=character(),\n",
    "    value=numeric(),\n",
    "    stringsAsFactors=FALSE\n",
    ")"
   ]
  },
  {
   "cell_type": "code",
   "execution_count": null,
   "metadata": {
    "collapsed": true
   },
   "outputs": [],
   "source": [
    "# period: Y = annual reporting, Q = quarterly reporting\n",
    "# report_type: Income Statement, Cash Flow, Balance Sheet\n",
    "get_stockrow_data <- function(symbol, report_type, report) {\n",
    "    # http://stockrow.com/api/companies/NVDA/financials.xlsx?dimension=MRQ&section=Income Statement\n",
    "    url <- paste('http://stockrow.com/api/companies/', symbol, '/financials.xlsx?dimension=MR', report, '&section=', report_type, sep = '')\n",
    "    download.file(url, 'temp.xlsx', mode=\"wb\")\n",
    "    readWorksheet(loadWorkbook('temp.xlsx'), sheet = symbol, header = TRUE)\n",
    "}\n",
    "\n",
    "reshape_stockrow_data <- function(data, symbol, report, metric_array) {\n",
    "    # selecting the desired metric\n",
    "    colnames(data)[1] <- 'Metric'\n",
    "    data <- filter(data, data$Metric %in% metric_array) \n",
    "    # fix column names\n",
    "    name_array <- colnames(data)\n",
    "    for (i in 2:length(name_array)) { \n",
    "        name_array[i] <- substr(colnames(data)[i], 2, 8) \n",
    "    }\n",
    "    name_array <- gsub(\"\\\\.\", \"\\\\-\", name_array)\n",
    "    colnames(data) <- name_array\n",
    "    # reshape and organize data\n",
    "    data <- melt(data, id=c(\"Metric\"))\n",
    "    colnames(data)[2] <- 'Period'\n",
    "    data$Symbol <- symbol\n",
    "    data$value <- ifelse(abs(data$value) > 1000, as.integer(data$value/1000000), data$value)\n",
    "    data <- data[c('Symbol','Period','Metric','value')]\n",
    "}\n",
    "\n",
    "get_earnings_date <- function(symbol) {\n",
    "    url <- paste('http://www.nasdaq.com/symbol/', symbol, '/earnings-surprise', sep='')\n",
    "    tables <- readHTMLTable(url)\n",
    "    tables <- list.clean(tables, fun = is.null, recursive = FALSE)\n",
    "    n.cols <- unlist(lapply(tables, function(t) dim(t)[2]))\n",
    "    data <- tables[[which.max(n.cols)]]\n",
    "}\n",
    "\n",
    "reshape_earnings_date <- function(data) {\n",
    "    # keep only what is needed\n",
    "    data <- data[-1,1:2]\n",
    "    colnames(data)[1] <- 'Period'\n",
    "    colnames(data)[2] <- 'DateReported'\n",
    "    data <- data.frame(lapply(data, as.character), stringsAsFactors=FALSE)\n",
    "    data$DateReported <- as.Date(data$DateReported, '%m/%d/%Y')\n",
    "    data.month <- substr(data$Period,1,3) \n",
    "    data.month <- match(data.month,month.abb) \n",
    "    data.month <- sprintf(\"%02d\", data.month)\n",
    "    data.year <- substr(data$Period,4,7)\n",
    "    data$Period <- paste(data.year, data.month, sep='-')\n",
    "    data\n",
    "}\n"
   ]
  },
  {
   "cell_type": "code",
   "execution_count": null,
   "metadata": {
    "collapsed": true
   },
   "outputs": [],
   "source": [
    "for(i in 1:length(STOCK_LIST)) {\n",
    "\n",
    "    cat('Processing', STOCK_LIST[i],'\\n')\n",
    "\n",
    "    # get pricing data\n",
    "    data.price <- getSymbols(STOCK_LIST[i], from=START_DATE, to=END_DATE, auto.assign=FALSE)\n",
    "    data.price <- data.frame(Date = index(data.price), data.price, row.names=NULL)\n",
    "    colnames(data.price) <- c('Date','Open','High','Low','Close','Volume','Adjusted')\n",
    "    data.price <- data.price[order(data.price$Date, decreasing=TRUE),]\n",
    "    data.price$Symbol <- STOCK_LIST[i]\n",
    "    \n",
    "    # get earnings data\n",
    "    stockrow_table <- output_table # needed when reading from multiple report_types\n",
    "    data.is <- get_stockrow_data(STOCK_LIST[i], 'Income Statement', 'Q')\n",
    "    data.is <- reshape_stockrow_data(data.is, STOCK_LIST[i], 'Q', c('Revenues','EPS','EBITDA'))\n",
    "    stockrow_table <- rbind(data.is, stockrow_table)\n",
    "    data.date <- get_earnings_date(STOCK_LIST[i])\n",
    "    data.date <- reshape_earnings_date (data.date)\n",
    "    \n",
    "    unique <- stockrow_table %>% distinct(stockrow_table$Period) %>% mutate_if(is.factor, as.character)\n",
    "    colnames(unique)[1] <- 'Period'\n",
    "    new <- merge(unique, data.date, by='Period', all=TRUE)\n",
    "    new <- new[order(new$Period, decreasing=TRUE),]\n",
    "    for(i in min(which(is.na(new$DateReported))):nrow(new)) {\n",
    "        new$DateReported[i] <- as.yearmon(new$DateReported[i-4]) - 1 \n",
    "        new$DateReported[i] <- as.Date(new$DateReported[i]) + as.numeric(format(new$DateReported[i-4],'%d')) - 1\n",
    "    }    \n",
    "    data.eps.quarter <- merge(stockrow_table, new, by=c('Period'), all=TRUE)\n",
    "    \n",
    "    # start by only using EPS\n",
    "    data.eps.quarter <- data.eps.quarter %>% filter(Metric == 'EPS') %>% select(DateReported, value) %>% arrange(desc(DateReported))  \n",
    "    data.eps.annual <- data.frame(matrix(NA, nrow=nrow(data.eps.quarter)-3, ncol=2)) \n",
    "    colnames(data.eps.annual) <- c('Date','EPS')\n",
    "    data.eps.annual$Date <- head(data.eps.quarter$DateReported, -3)\n",
    "    data.eps.annual$EPS <- rollapply(data.eps.quarter$value, width = 4, by = 1, FUN = sum, align = \"left\")\n",
    "    data.eps.annual$Symbol <- STOCK_LIST[i]\n",
    "    \n",
    "    # merge/combine data\n",
    "    data.combine <- merge(data.price, data.eps.annual, by=c('Symbol','Date'), all=TRUE)\n",
    "    # sort increasing to allow correct derivation of dividend\n",
    "    data.combine <- data.combine[order(data.combine$Date),]\n",
    "    if (is.na(data.combine$EPS[1])) \n",
    "        data.combine$EPS[1] <- tail(data.eps.annual$EPS, n=1)\n",
    "    data.combine$EPS <- na.locf(data.combine$EPS)\n",
    "    data.combine <- na.omit(data.combine)    \n",
    "}"
   ]
  },
  {
   "cell_type": "code",
   "execution_count": null,
   "metadata": {
    "collapsed": true
   },
   "outputs": [],
   "source": [
    "write.table(data.combine, file = 'Historical_PE_Ratio.csv', sep = \",\", col.names = TRUE, row.names = FALSE, quote = FALSE)"
   ]
  }
 ],
 "metadata": {
  "kernelspec": {
   "display_name": "R",
   "language": "R",
   "name": "ir"
  },
  "language_info": {
   "codemirror_mode": "r",
   "file_extension": ".r",
   "mimetype": "text/x-r-source",
   "name": "R",
   "pygments_lexer": "r",
   "version": "3.4.2"
  }
 },
 "nbformat": 4,
 "nbformat_minor": 2
}
